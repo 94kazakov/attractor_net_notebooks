{
 "cells": [
  {
   "cell_type": "code",
   "execution_count": 1,
   "metadata": {
    "collapsed": false
   },
   "outputs": [
    {
     "name": "stdout",
     "output_type": "stream",
     "text": [
      "/Users/denis/Dropbox/school/research/attractor_net_notebooks\n"
     ]
    }
   ],
   "source": [
    "# set this notebook one level above State_denoise_RNN. Then we can just keep \n",
    "# track of it with git and exchange it between the server and local\n",
    "import os\n",
    "path = os.getcwd()\n",
    "# if \"State\" not in path:\n",
    "#     subdirectory = \"attractor_net_notebooks\"\n",
    "#     path = os.getcwd()[:-len(subdirectory)] + 'State_Denoised_RNN'\n",
    "print(path)\n",
    "# os.chdir(path)"
   ]
  },
  {
   "cell_type": "code",
   "execution_count": 2,
   "metadata": {
    "collapsed": false
   },
   "outputs": [],
   "source": [
    "from __future__ import print_function, division\n",
    "import itertools\n",
    "import tensorflow as tf\n",
    "import numpy as np\n",
    "import sys\n",
    "import argparse\n",
    "import datetime\n",
    "import matplotlib\n",
    "import seaborn as sns\n",
    "import matplotlib.pyplot as plt\n",
    "matplotlib.rcParams['figure.figsize'] = (10,5)\n",
    "\n",
    "\n",
    "%load_ext autoreload\n",
    "%autoreload 2\n",
    "\n",
    "import sys\n",
    "def progress_print(i, total, spacing=20):\n",
    "    if i % spacing == 0:\n",
    "        string_params_tuple = (i, total)\n",
    "        sys.stdout.write(\"\\r%i / %i\" % string_params_tuple)\n",
    "        sys.stdout.flush()"
   ]
  },
  {
   "cell_type": "code",
   "execution_count": 72,
   "metadata": {
    "collapsed": true
   },
   "outputs": [],
   "source": [
    "# Layer Normalization [https://theneuralperspective.com/2016/10/27/gradient-topics/]\n",
    "def ln(inputs, epsilon = 1e-5, scope = None):\n",
    " \n",
    "    \"\"\" Computer LN given an input tensor. We get in an input of shape\n",
    "    [N X D] and with LN we compute the mean and var for each individual\n",
    "    training point across all it's hidden dimensions rather than across\n",
    "    the training batch as we do in BN. This gives us a mean and var of shape\n",
    "    [N X 1].\n",
    "    \"\"\"\n",
    "    mean, var = tf.nn.moments(inputs, [1], keep_dims=True)\n",
    "    with tf.variable_scope(scope + 'LN'):\n",
    "        scale = tf.get_variable('alpha',\n",
    "                                shape=[inputs.get_shape()[1]],\n",
    "                                initializer=tf.constant_initializer(1))\n",
    "        shift = tf.get_variable('beta',\n",
    "                                shape=[inputs.get_shape()[1]],\n",
    "                                initializer=tf.constant_initializer(0))\n",
    "    LN = scale * (inputs - mean) / tf.sqrt(var + epsilon) + shift\n",
    " \n",
    "    return LN"
   ]
  },
  {
   "cell_type": "code",
   "execution_count": 3,
   "metadata": {
    "collapsed": false,
    "scrolled": false
   },
   "outputs": [
    {
     "name": "stdout",
     "output_type": "stream",
     "text": [
      "(17202, 50)\n",
      "Loading embeddings...\n",
      "(400000, ' words loaded!')\n",
      "1 words not found in pretrained embeddings: ['PAD']\n",
      "L2 Regularization\n",
      "Logged Successfully: \n",
      "\n",
      "    model_type: \t\tGRU, task: pos_brown\n",
      "    hid: \t\t\t100,\n",
      "    h_hid: \t\t\t10\n",
      "    n_attractor_iterations: \t0,\n",
      "    attractor_dynamics: \tprojection2\n",
      "    attractor_noise_level: \t0.2\n",
      "    attractor_noise_type: \tbernoilli\n",
      "    attractor_regu-n: \tl2(lambda:0.05)\n",
      "    train_word_embeddings: \tTrue\n",
      "    TRAIN/TEST_SIZE: \t40138/17202, SEQ_LEN: 50\n",
      "********** replication  0  **********\n",
      "(17202, 50)\n",
      "[[  13 1084    5 4212    2   13    7 2186    5 4212 4037   45   10  128\n",
      "    59   39   55   71 1219   42    3    0    0    0    0    0    0    0\n",
      "     0    0    0    0    0    0    0    0    0    0    0    0    0    0\n",
      "     0    0    0    0    0    0    0    0]] [[ 2  1  8  1  6  2  3  4  8  4  1 55 24  9  3 47 42 22 11 23  5  0  0  0\n",
      "   0  0  0  0  0  0  0  0  0  0  0  0  0  0  0  0  0  0  0  0  0  0  0  0\n",
      "   0  0]]\n",
      "[1266]\n",
      "``<\u001b[31mDTX\u001b[0m(\u001b[1;32m``\u001b[0m)> cited<\u001b[31mDTX\u001b[0m(\u001b[1;32mPPS+BEZ\u001b[0m)> honest<\u001b[31mDTX\u001b[0m(\u001b[1;32mJJ\u001b[0m)> as<\u001b[31mDTX\u001b[0m(\u001b[1;32mCS\u001b[0m)> the<\u001b[31mDTX\u001b[0m(\u001b[1;32mAT\u001b[0m)> day<\u001b[31mJJR\u001b[0m(\u001b[1;32mNN\u001b[0m)> ''<\u001b[31mJJR\u001b[0m(\u001b[1;32m''\u001b[0m)> ,<\u001b[31mJJR\u001b[0m(\u001b[1;32m,\u001b[0m)> mr.<\u001b[31mDTX\u001b[0m(\u001b[1;32mNP\u001b[0m)> cited<\u001b[31mDTX\u001b[0m(\u001b[1;32mNP\u001b[0m)> said<\u001b[31mDTX\u001b[0m(\u001b[1;32mVBD\u001b[0m)> ,<\u001b[31mJJR\u001b[0m(\u001b[1;32m,\u001b[0m)> and<\u001b[31m'\u001b[0m(\u001b[1;32mCC\u001b[0m)> added<\u001b[31mJJR\u001b[0m(\u001b[1;32mVBD\u001b[0m)> ,<\u001b[31m'\u001b[0m(\u001b[1;32m,\u001b[0m)> ``<\u001b[31m'\u001b[0m(\u001b[1;32m``\u001b[0m)> mr.<\u001b[31mDTX\u001b[0m(\u001b[1;32mNP\u001b[0m)> cited<\u001b[31mDTX\u001b[0m(\u001b[1;32mNP\u001b[0m)> ,<\u001b[31mDTX\u001b[0m(\u001b[1;32m,\u001b[0m)> i<\u001b[31m'\u001b[0m(\u001b[1;32mPPSS\u001b[0m)> can<\u001b[31m'\u001b[0m(\u001b[1;32mMD\u001b[0m)> say<\u001b[31m'\u001b[0m(\u001b[1;32mVB\u001b[0m)> this<\u001b[31m'\u001b[0m(\u001b[1;32mDT\u001b[0m)> to<\u001b[31m'\u001b[0m(\u001b[1;32mIN\u001b[0m)> you<\u001b[31m'\u001b[0m(\u001b[1;32mPPO\u001b[0m)> :<\u001b[31m'\u001b[0m(\u001b[1;32m:\u001b[0m)> cited<\u001b[31mDTX\u001b[0m(\u001b[1;32mNP\u001b[0m)> is<\u001b[31m'\u001b[0m(\u001b[1;32mBEZ\u001b[0m)> a<\u001b[31m'\u001b[0m(\u001b[1;32mAT\u001b[0m)> little<\u001b[31m'\u001b[0m(\u001b[1;32mAP\u001b[0m)> too<\u001b[31m'\u001b[0m(\u001b[1;32mQL\u001b[0m)> honest<\u001b[31m'\u001b[0m(\u001b[1;32mJJ\u001b[0m)> .<\u001b[31m'\u001b[0m(\u001b[1;32m.\u001b[0m)> \n",
      "\n",
      "\n",
      "Logged Successfully: \n",
      "epoch 0, Loss Pred 4.9988, Loss Att 1.0050, Train Acc= 0.001, Test Acc= 0.0005, Entropy= 12.6829\n"
     ]
    },
    {
     "ename": "KeyboardInterrupt",
     "evalue": "",
     "output_type": "error",
     "traceback": [
      "\u001b[0;31m---------------------------------------------------------------------------\u001b[0m",
      "\u001b[0;31mKeyboardInterrupt\u001b[0m                         Traceback (most recent call last)",
      "\u001b[0;32m<ipython-input-3-d42eca407a37>\u001b[0m in \u001b[0;36m<module>\u001b[0;34m()\u001b[0m\n\u001b[1;32m    278\u001b[0m                         \u001b[0;31m# Optimize all parameters except for attractor weights\u001b[0m\u001b[0;34m\u001b[0m\u001b[0;34m\u001b[0m\u001b[0m\n\u001b[1;32m    279\u001b[0m                         _, hid_vals = sess.run([pred_train_op, h_net_seq], \n\u001b[0;32m--> 280\u001b[0;31m                                                feed_dict={X: batch_x, Y: batch_y})\n\u001b[0m\u001b[1;32m    281\u001b[0m                     \u001b[0;32mif\u001b[0m \u001b[0;34m(\u001b[0m\u001b[0mLOSS_SWITCH_FREQ\u001b[0m \u001b[0;34m==\u001b[0m \u001b[0;36m0\u001b[0m \u001b[0;32mor\u001b[0m \u001b[0;32mnot\u001b[0m \u001b[0mtrain_prediction_loss\u001b[0m\u001b[0;34m)\u001b[0m\u001b[0;34m:\u001b[0m\u001b[0;34m\u001b[0m\u001b[0m\n\u001b[1;32m    282\u001b[0m                         \u001b[0;32mif\u001b[0m \u001b[0;34m(\u001b[0m\u001b[0mN_ATTRACTOR_STEPS\u001b[0m \u001b[0;34m>\u001b[0m \u001b[0;36m0\u001b[0m\u001b[0;34m)\u001b[0m\u001b[0;34m:\u001b[0m\u001b[0;34m\u001b[0m\u001b[0m\n",
      "\u001b[0;32m/usr/local/lib/python2.7/site-packages/tensorflow/python/client/session.pyc\u001b[0m in \u001b[0;36mrun\u001b[0;34m(self, fetches, feed_dict, options, run_metadata)\u001b[0m\n\u001b[1;32m    887\u001b[0m     \u001b[0;32mtry\u001b[0m\u001b[0;34m:\u001b[0m\u001b[0;34m\u001b[0m\u001b[0m\n\u001b[1;32m    888\u001b[0m       result = self._run(None, fetches, feed_dict, options_ptr,\n\u001b[0;32m--> 889\u001b[0;31m                          run_metadata_ptr)\n\u001b[0m\u001b[1;32m    890\u001b[0m       \u001b[0;32mif\u001b[0m \u001b[0mrun_metadata\u001b[0m\u001b[0;34m:\u001b[0m\u001b[0;34m\u001b[0m\u001b[0m\n\u001b[1;32m    891\u001b[0m         \u001b[0mproto_data\u001b[0m \u001b[0;34m=\u001b[0m \u001b[0mtf_session\u001b[0m\u001b[0;34m.\u001b[0m\u001b[0mTF_GetBuffer\u001b[0m\u001b[0;34m(\u001b[0m\u001b[0mrun_metadata_ptr\u001b[0m\u001b[0;34m)\u001b[0m\u001b[0;34m\u001b[0m\u001b[0m\n",
      "\u001b[0;32m/usr/local/lib/python2.7/site-packages/tensorflow/python/client/session.pyc\u001b[0m in \u001b[0;36m_run\u001b[0;34m(self, handle, fetches, feed_dict, options, run_metadata)\u001b[0m\n\u001b[1;32m   1118\u001b[0m     \u001b[0;32mif\u001b[0m \u001b[0mfinal_fetches\u001b[0m \u001b[0;32mor\u001b[0m \u001b[0mfinal_targets\u001b[0m \u001b[0;32mor\u001b[0m \u001b[0;34m(\u001b[0m\u001b[0mhandle\u001b[0m \u001b[0;32mand\u001b[0m \u001b[0mfeed_dict_tensor\u001b[0m\u001b[0;34m)\u001b[0m\u001b[0;34m:\u001b[0m\u001b[0;34m\u001b[0m\u001b[0m\n\u001b[1;32m   1119\u001b[0m       results = self._do_run(handle, final_targets, final_fetches,\n\u001b[0;32m-> 1120\u001b[0;31m                              feed_dict_tensor, options, run_metadata)\n\u001b[0m\u001b[1;32m   1121\u001b[0m     \u001b[0;32melse\u001b[0m\u001b[0;34m:\u001b[0m\u001b[0;34m\u001b[0m\u001b[0m\n\u001b[1;32m   1122\u001b[0m       \u001b[0mresults\u001b[0m \u001b[0;34m=\u001b[0m \u001b[0;34m[\u001b[0m\u001b[0;34m]\u001b[0m\u001b[0;34m\u001b[0m\u001b[0m\n",
      "\u001b[0;32m/usr/local/lib/python2.7/site-packages/tensorflow/python/client/session.pyc\u001b[0m in \u001b[0;36m_do_run\u001b[0;34m(self, handle, target_list, fetch_list, feed_dict, options, run_metadata)\u001b[0m\n\u001b[1;32m   1315\u001b[0m     \u001b[0;32mif\u001b[0m \u001b[0mhandle\u001b[0m \u001b[0;32mis\u001b[0m \u001b[0mNone\u001b[0m\u001b[0;34m:\u001b[0m\u001b[0;34m\u001b[0m\u001b[0m\n\u001b[1;32m   1316\u001b[0m       return self._do_call(_run_fn, self._session, feeds, fetches, targets,\n\u001b[0;32m-> 1317\u001b[0;31m                            options, run_metadata)\n\u001b[0m\u001b[1;32m   1318\u001b[0m     \u001b[0;32melse\u001b[0m\u001b[0;34m:\u001b[0m\u001b[0;34m\u001b[0m\u001b[0m\n\u001b[1;32m   1319\u001b[0m       \u001b[0;32mreturn\u001b[0m \u001b[0mself\u001b[0m\u001b[0;34m.\u001b[0m\u001b[0m_do_call\u001b[0m\u001b[0;34m(\u001b[0m\u001b[0m_prun_fn\u001b[0m\u001b[0;34m,\u001b[0m \u001b[0mself\u001b[0m\u001b[0;34m.\u001b[0m\u001b[0m_session\u001b[0m\u001b[0;34m,\u001b[0m \u001b[0mhandle\u001b[0m\u001b[0;34m,\u001b[0m \u001b[0mfeeds\u001b[0m\u001b[0;34m,\u001b[0m \u001b[0mfetches\u001b[0m\u001b[0;34m)\u001b[0m\u001b[0;34m\u001b[0m\u001b[0m\n",
      "\u001b[0;32m/usr/local/lib/python2.7/site-packages/tensorflow/python/client/session.pyc\u001b[0m in \u001b[0;36m_do_call\u001b[0;34m(self, fn, *args)\u001b[0m\n\u001b[1;32m   1321\u001b[0m   \u001b[0;32mdef\u001b[0m \u001b[0m_do_call\u001b[0m\u001b[0;34m(\u001b[0m\u001b[0mself\u001b[0m\u001b[0;34m,\u001b[0m \u001b[0mfn\u001b[0m\u001b[0;34m,\u001b[0m \u001b[0;34m*\u001b[0m\u001b[0margs\u001b[0m\u001b[0;34m)\u001b[0m\u001b[0;34m:\u001b[0m\u001b[0;34m\u001b[0m\u001b[0m\n\u001b[1;32m   1322\u001b[0m     \u001b[0;32mtry\u001b[0m\u001b[0;34m:\u001b[0m\u001b[0;34m\u001b[0m\u001b[0m\n\u001b[0;32m-> 1323\u001b[0;31m       \u001b[0;32mreturn\u001b[0m \u001b[0mfn\u001b[0m\u001b[0;34m(\u001b[0m\u001b[0;34m*\u001b[0m\u001b[0margs\u001b[0m\u001b[0;34m)\u001b[0m\u001b[0;34m\u001b[0m\u001b[0m\n\u001b[0m\u001b[1;32m   1324\u001b[0m     \u001b[0;32mexcept\u001b[0m \u001b[0merrors\u001b[0m\u001b[0;34m.\u001b[0m\u001b[0mOpError\u001b[0m \u001b[0;32mas\u001b[0m \u001b[0me\u001b[0m\u001b[0;34m:\u001b[0m\u001b[0;34m\u001b[0m\u001b[0m\n\u001b[1;32m   1325\u001b[0m       \u001b[0mmessage\u001b[0m \u001b[0;34m=\u001b[0m \u001b[0mcompat\u001b[0m\u001b[0;34m.\u001b[0m\u001b[0mas_text\u001b[0m\u001b[0;34m(\u001b[0m\u001b[0me\u001b[0m\u001b[0;34m.\u001b[0m\u001b[0mmessage\u001b[0m\u001b[0;34m)\u001b[0m\u001b[0;34m\u001b[0m\u001b[0m\n",
      "\u001b[0;32m/usr/local/lib/python2.7/site-packages/tensorflow/python/client/session.pyc\u001b[0m in \u001b[0;36m_run_fn\u001b[0;34m(session, feed_dict, fetch_list, target_list, options, run_metadata)\u001b[0m\n\u001b[1;32m   1300\u001b[0m           return tf_session.TF_Run(session, options,\n\u001b[1;32m   1301\u001b[0m                                    \u001b[0mfeed_dict\u001b[0m\u001b[0;34m,\u001b[0m \u001b[0mfetch_list\u001b[0m\u001b[0;34m,\u001b[0m \u001b[0mtarget_list\u001b[0m\u001b[0;34m,\u001b[0m\u001b[0;34m\u001b[0m\u001b[0m\n\u001b[0;32m-> 1302\u001b[0;31m                                    status, run_metadata)\n\u001b[0m\u001b[1;32m   1303\u001b[0m \u001b[0;34m\u001b[0m\u001b[0m\n\u001b[1;32m   1304\u001b[0m     \u001b[0;32mdef\u001b[0m \u001b[0m_prun_fn\u001b[0m\u001b[0;34m(\u001b[0m\u001b[0msession\u001b[0m\u001b[0;34m,\u001b[0m \u001b[0mhandle\u001b[0m\u001b[0;34m,\u001b[0m \u001b[0mfeed_dict\u001b[0m\u001b[0;34m,\u001b[0m \u001b[0mfetch_list\u001b[0m\u001b[0;34m)\u001b[0m\u001b[0;34m:\u001b[0m\u001b[0;34m\u001b[0m\u001b[0m\n",
      "\u001b[0;31mKeyboardInterrupt\u001b[0m: "
     ]
    }
   ],
   "source": [
    "#!/usr/local/bin/python\n",
    "\n",
    "# This version of the code trains the attractor connections with a separate\n",
    "# objective function than the objective function used to train all other weights\n",
    "# in the network (on the prediction task).\n",
    "\n",
    "from __future__ import print_function\n",
    "import itertools\n",
    "import tensorflow as tf\n",
    "import numpy as np\n",
    "import sys\n",
    "import argparse\n",
    "import datetime\n",
    "\n",
    "\n",
    "\n",
    "\n",
    "from tensorflow_helpers import *\n",
    "from data_generator import generate_examples, pick_task\n",
    "from information_trackers import MutInfSaver, WeightSaver, compute_entropy_fullvec, get_mut_inf_for_vecs,\\\n",
    "                                flat_mutual_inf, compute_avg_entropy_vec\n",
    "from helper_functions import get_batches, load_pretrained_embeddings, \\\n",
    "                            get_model_type_str, translate_ids_to_words, \\\n",
    "                            save_results, print_into_log\n",
    "from graph_init import GRU_attractor\n",
    "\n",
    "ops = {\n",
    "        'model_type': \"GRU\", # OPTIONS: vanilla, LSTM_raw, LSTM_tensorflow, LSTM_attractor\n",
    "        'hid': 100,\n",
    "        'in': None, #TBD\n",
    "        'out': 1,\n",
    "#         'batch_size':n_examples, #since the sequences are 1-dimensional it's easier to just run them all at once\n",
    "        'n_attractor_iterations': 0,\n",
    "        'attractor_dynamics': \"projection2\", # OPTIONS:  \"\" (for no attractor dynamics),\n",
    "                                    #           \"direct\" (simple attractor weights applied to hidden states directly, trained with noise addition)\n",
    "                                    #           \"projection\" (project the hidden state into a separate space via weights, do attraction, project back)\n",
    "                                    #           \"helper_hidden\" (hidden-hidden neurons) - IMPORTANT: don't forget to add h_hid number\n",
    "        'h_hid': 10, # helper hidden for \"helper hidden\" \"attractory_dynamics\" mode\n",
    "        'attractor_noise_level': 0.2,\n",
    "        'attractor_noise_type': \"bernoilli\", # OPTIONS: \"gaussian\", \"dropout\", \"random_drop\"\n",
    "    \n",
    "        'training_mode': \"\",#'attractor_on_both',\n",
    "    \n",
    "        'attractor_regularization': \"l2\", # OPTIONS: \"l2\", \"\"\n",
    "        'attractor_regularization_lambda': 0.05,\n",
    "    \n",
    "        'record_mutual_information': True,\n",
    "        'problem_type': \"pos_brown\", # OPTIONS: parity, parity_length, majority, reber, kazakov, pos_brown\n",
    "        'seq_len': 5,\n",
    "    \n",
    "        'save_best_model': True, \n",
    "        'reshuffle_data_each_replication': False, #relevant for POS datasets (since they are loaded from files)\n",
    "        'test_partition': 0.3,\n",
    "    \n",
    "        # NLP related (pos_brown task)\n",
    "        'embedding_size': 100,\n",
    "        'load_word_embeddings': True,\n",
    "        'train_word_embeddings': True, \n",
    "        'input_type': \"embed\" # embed&prior, embed, prior\n",
    "        }\n",
    "\n",
    "\n",
    "\n",
    "# !!!!!!!!!!!!!!!!!!!!!!            \n",
    "# SEQ_LEN = 12 # number of bits in input sequence   \n",
    "N_HIDDEN = ops['hid']  # number of hidden units\n",
    "N_H_HIDDEN = ops['h_hid']          \n",
    "TASK = ops['problem_type']\n",
    "ARCH = ops['model_type'] # hidden layer type: 'GRU' or 'tanh'\n",
    "NOISE_LEVEL = ops['attractor_noise_level']\n",
    "                      # noise in training attractor net \n",
    "                      # if >=0, Gaussian with std dev NOISE_LEVEL \n",
    "                      # if < 0, Bernoulli dropout proportion -NOISE_LEVEL \n",
    "            \n",
    "# !!!!!!!!!!!!!!!!!!!!!! \n",
    "INPUT_NOISE_LEVEL = 0.1\n",
    "ATTRACTOR_TYPE = ops['attractor_dynamics']\n",
    "N_ATTRACTOR_STEPS = ops['n_attractor_iterations']\n",
    "                      # number of time steps in attractor dynamics\n",
    "                      # if = 0, then no attractor net\n",
    "# !!!!!!!!!!!!!!!!!!!!!!            \n",
    "# ATTR_WEIGHT_CONSTRAINTS = True\n",
    "                      # True: make attractor weights symmetric and have zero diag\n",
    "                      # False: unconstrained\n",
    "TRAIN_ATTR_WEIGHTS_ON_PREDICTION = False\n",
    "                      # True: train attractor weights on attractor net _and_ prediction\n",
    "REPORT_BEST_TRAIN_PERFORMANCE = True\n",
    "                      # True: save the train/test perf on the epoch for which train perf was best\n",
    "LOSS_SWITCH_FREQ = 1\n",
    "                      # how often (in epochs) to switch between attractor \n",
    "                      # and prediction loss\n",
    "\n",
    "ops, SEQ_LEN, N_INPUT, N_CLASSES, N_TRAIN, N_TEST = pick_task(ops['problem_type'], ops)# task (parity, majority, reber, kazakov)\n",
    "\n",
    "\n",
    "# Training Parameters\n",
    "\n",
    "TRAINING_EPOCHS = 50\n",
    "N_REPLICATIONS = 1\n",
    "BATCH_SIZE = 10000\n",
    "DISPLAY_EPOCH = 1\n",
    "LRATE_PREDICTION = 0.008\n",
    "LRATE_ATTRACTOR = 0.008\n",
    "LOG_DIRECTORY = 'experiments/logs/{}.txt'.format(ops['problem_type'])\n",
    "\n",
    "\n",
    "\n",
    "# NOTEBOOK CODE\n",
    "\n",
    "WS = WeightSaver()\n",
    "MIS = MutInfSaver()\n",
    "\n",
    "\n",
    "\n",
    "######### MAIN CODE #############################################################\n",
    "for attractor_steps in [0, 5, 10, 20]:\n",
    "    # the tf seed needs to be within the context of the graph. \n",
    "    tf.reset_default_graph()\n",
    "    np.random.seed(100)\n",
    "    tf.set_random_seed(100)\n",
    "    ops['n_attractor_iterations'] = attractor_steps\n",
    "\n",
    "\n",
    "    #\n",
    "    # PLACEHOLDERS\n",
    "    #\n",
    "    if 'pos' in ops['problem_type']:\n",
    "        # X will be looked up in the embedding table, so the last dimension is just a number\n",
    "        X = tf.placeholder(\"int64\", [None, SEQ_LEN], name='X')\n",
    "        # last dimension is left singular, tensorflow will expect it to be an id number, not 1-hot embed\n",
    "        Y = tf.placeholder(\"int64\", [None, SEQ_LEN], name='Y')\n",
    "    else: #single output\n",
    "        X = tf.placeholder(\"float\", [None, SEQ_LEN, N_INPUT])\n",
    "        Y = tf.placeholder(\"float\", [None, N_CLASSES])\n",
    "    attractor_tgt_net = tf.placeholder(\"float\", [None, N_HIDDEN], name='attractor_tgt')\n",
    "\n",
    "    # Embedding matrix initialization\n",
    "    if 'pos' in ops['problem_type']:\n",
    "        [X_train, Y_train, X_test, Y_test, maps] = generate_examples(SEQ_LEN, N_TRAIN, N_TEST, \n",
    "                                                                             INPUT_NOISE_LEVEL, TASK, ops)\n",
    "        if ops['load_word_embeddings']:\n",
    "            embeddings_loaded = load_pretrained_embeddings('data/glove.6B.100d.txt', maps, ops)\n",
    "            embedding = tf.get_variable(\"embedding\",\n",
    "                                    initializer=embeddings_loaded,\n",
    "                                    dtype=tf.float32,\n",
    "                                    trainable=ops['train_word_embeddings'])\n",
    "        else: #initialize randomly\n",
    "            embedding = tf.get_variable(\"embedding\",\n",
    "                                    initializer=tf.truncated_normal_initializer(stddev=0.05),\n",
    "                                    shape=[ops['vocab_size'], ops['embedding_size']],\n",
    "                                    dtype=tf.float32,\n",
    "                                    trainable=ops['train_word_embeddings'])\n",
    "        embed_lookup = tf.nn.embedding_lookup(embedding, X)\n",
    "\n",
    "        # load priors information\n",
    "        if ops['input_type'] == 'prior' or ops['input_type'] == 'embed&prior':\n",
    "            id2prior = maps['id2prior']\n",
    "            word2id = maps['word2id']\n",
    "            priors = np.zeros([len(id2prior), len(id2prior[0])]).astype(\"float32\")\n",
    "            for id, prior in id2prior.items():\n",
    "                priors[id] = prior\n",
    "            priors_op = tf.get_variable(\"priors\",\n",
    "                                    initializer=priors,\n",
    "                                    dtype=tf.float32,\n",
    "                                    trainable=False)\n",
    "            prior_lookup = tf.nn.embedding_lookup(priors_op, X)\n",
    "\n",
    "        if ops['input_type'] == 'embed':\n",
    "            embed = embed_lookup\n",
    "        elif ops['input_type'] == 'prior':\n",
    "            embed = prior_lookup\n",
    "        elif ops['input_type'] == 'embed&prior':\n",
    "            embed = tf.concat([embed_lookup, prior_lookup], axis=2)\n",
    "\n",
    "\n",
    "\n",
    "\n",
    "    # Graph + all the training variables\n",
    "    if 'pos' in ops['problem_type']:\n",
    "        G = GRU_attractor(ops, inputs={'X': embed, 'Y': Y, 'attractor_tgt_net': attractor_tgt_net})\n",
    "    else:\n",
    "        G = GRU_attractor(ops, inputs={'X': X, 'Y': Y, 'attractor_tgt_net': attractor_tgt_net})\n",
    "    pred_loss_op = G.pred_loss_op\n",
    "    pred_train_op = G.pred_train_op\n",
    "    attr_loss_op = G.attr_loss_op\n",
    "    attr_train_op = G.attr_train_op\n",
    "    accuracy = G.accuracy\n",
    "    ouptut = G.output\n",
    "\n",
    "    h_clean_seq = G.h_clean_seq\n",
    "    h_net_seq = G.h_net_seq\n",
    "    h_attractor_collection = G.h_attractor_collection\n",
    "\n",
    "\n",
    "\n",
    "    # Initialize the variables (i.e. assign their default value)\n",
    "    init = tf.global_variables_initializer()\n",
    "    print_into_log(LOG_DIRECTORY, get_model_type_str(ops, N_TRAIN, N_TEST, SEQ_LEN))\n",
    "\n",
    "    with tf.Session() as sess:\n",
    "        saved_train_acc = []\n",
    "        saved_test_acc = []\n",
    "        saved_epoch = []\n",
    "        saved_att_loss = []\n",
    "        saved_entropy_final = []\n",
    "        # Start training\n",
    "        for replication in range(N_REPLICATIONS):\n",
    "            print(\"********** replication \", replication,\" **********\")\n",
    "            [X_train, Y_train, X_test, Y_test, maps] = generate_examples(SEQ_LEN, N_TRAIN, N_TEST, \n",
    "                                                                         INPUT_NOISE_LEVEL, TASK, ops)\n",
    "\n",
    "            print(X_test[0:1], Y_test[0:1])\n",
    "            sess.run(init) # Run the initializer\n",
    "\n",
    "            train_prediction_loss = True\n",
    "            best_train_acc = -1000.\n",
    "            best_test_acc = 0\n",
    "            best_att_loss = 0\n",
    "            for epoch in range(1, TRAINING_EPOCHS + 2):\n",
    "                if (epoch-1) % DISPLAY_EPOCH == 0:\n",
    "    #                 ploss, train_acc, hid_vals = sess.run([pred_loss_op, accuracy, h_net_seq],\n",
    "    #                                              feed_dict={X: X_train, Y: Y_train})\n",
    "                    ploss, train_acc, hid_vals = batch_tensor_collect(sess, [pred_loss_op, accuracy, h_net_seq], \n",
    "                                                                      X, Y, X_train, Y_train, BATCH_SIZE)\n",
    "                    aloss = []\n",
    "                    for batch_hid_vals in np.array_split(hid_vals, int(len(X_train)/BATCH_SIZE)):\n",
    "                        aloss.append(sess.run(attr_loss_op,feed_dict={attractor_tgt_net: batch_hid_vals}))\n",
    "                    aloss = np.mean(aloss)\n",
    "\n",
    "    #                 test_acc = sess.run(accuracy, feed_dict={X: X_test, Y: Y_test})\n",
    "                    test_acc = batch_tensor_collect(sess, [accuracy], X, Y, X_test, Y_test, BATCH_SIZE)[0]\n",
    "                    if ops['record_mutual_information']:\n",
    "    #                     h_attractor_val, h_clean_val = sess.run([h_attractor_collection, h_clean_seq],\n",
    "    #                                                                    feed_dict={X: X_train, Y: Y_train})\n",
    "                        # TODO: h_attractor_collection reshapeing masking. \n",
    "                        h_attractor_val = None\n",
    "                        h_clean_val = batch_tensor_collect(sess, [h_clean_seq],\n",
    "                                                                            X, Y, X_train, Y_train, BATCH_SIZE)[0]\n",
    "                        MIS.update(ploss, aloss, train_acc, test_acc, np.tanh(hid_vals), h_attractor_val, h_clean_val)\n",
    "\n",
    "\n",
    "                    # Print some examples:\n",
    "                    if 'pos' in ops['problem_type']:\n",
    "                        random_ids = np.random.choice(ops['vocab_size'], 1, replace=False)\n",
    "                        Y_pred = sess.run(ouptut, feed_dict={X: X_train[random_ids]})\n",
    "                        Y_pred = np.argmax(Y_pred, axis=2)\n",
    "                        print(random_ids)\n",
    "                        for i, id in enumerate(random_ids):\n",
    "                            translate_ids_to_words(X_train[id], Y_pred[i], Y_train[id], maps['id2word'], maps['id2tag'],\n",
    "                                                  printout=True)\n",
    "                        print('\\n')\n",
    "                    # Print training information\n",
    "                    progress_comment = \"epoch \" + str(epoch-1) + \", Loss Pred \" + \\\n",
    "                              \"{:.4f}\".format(ploss) + \", Loss Att \" + \\\n",
    "                              \"{:.4f}\".format(aloss) + \", Train Acc= \" + \\\n",
    "                              \"{:.3f}\".format(train_acc) + \", Test Acc= \" + \\\n",
    "                              \"{:.4f}\".format(test_acc) + \", Entropy= \" + \\\n",
    "                              \"{:.4f}\".format(compute_entropy_fullvec(h_clean_val, ops, n_bins=8))\n",
    "                    print_into_log(LOG_DIRECTORY, progress_comment)\n",
    "                        \n",
    "                    WS.update_conservative(\n",
    "                                    epoch_number = epoch,\n",
    "                                    loss_att = aloss, \n",
    "                                    loss_task = ploss, \n",
    "    #                                 W_att=sess.run(attr_net['W']), \n",
    "    #                                 b_att = sess.run(attr_net['W']), \n",
    "    #                                 scaling_const = None,\n",
    "                                    acc = test_acc,\n",
    "    #                                 h_seq = None\n",
    "                                    )\n",
    "\n",
    "                    if (train_acc > best_train_acc):\n",
    "                        best_train_acc = train_acc\n",
    "                        best_test_acc = test_acc\n",
    "                        best_att_loss = aloss\n",
    "                        # TODO\n",
    "    #                     save_path = saver.save(sess, \"/experiments/models/.ckpt\")\n",
    "                    if (1.0 - train_acc - 1e-15 < 0.0):\n",
    "                        print('reached_peak')\n",
    "                        break\n",
    "                if epoch > 1 and LOSS_SWITCH_FREQ > 0 \\\n",
    "                             and (epoch-1) % LOSS_SWITCH_FREQ == 0:\n",
    "                    train_prediction_loss = not train_prediction_loss\n",
    "                batches = get_batches(BATCH_SIZE, X_train, Y_train)\n",
    "                for (batch_x, batch_y) in batches:\n",
    "                    if (LOSS_SWITCH_FREQ == 0 or train_prediction_loss):\n",
    "                        # Optimize all parameters except for attractor weights\n",
    "                        _, hid_vals = sess.run([pred_train_op, h_net_seq], \n",
    "                                               feed_dict={X: batch_x, Y: batch_y})\n",
    "                    if (LOSS_SWITCH_FREQ == 0 or not train_prediction_loss):\n",
    "                        if (N_ATTRACTOR_STEPS > 0):\n",
    "                            # Optimize attractor weights\n",
    "                            hid_vals = sess.run(h_net_seq, feed_dict={X: batch_x, Y: batch_y})\n",
    "                            sess.run(attr_train_op, feed_dict={attractor_tgt_net: \n",
    "                                                           hid_vals})\n",
    "\n",
    "            print(\"Optimization Finished!\")\n",
    "\n",
    "        \n",
    "            if (REPORT_BEST_TRAIN_PERFORMANCE):\n",
    "                saved_train_acc.append(best_train_acc)\n",
    "                saved_test_acc.append(best_test_acc)\n",
    "                saved_att_loss.append(best_att_loss)\n",
    "                saved_entropy_final.append(compute_entropy_fullvec(MIS.h_finals[-1], ops, n_bins=8))\n",
    "            else: \n",
    "                saved_train_acc.append(train_acc)\n",
    "                saved_test_acc.append(test_acc)\n",
    "    #             saved_att_loss.append(aloss)\n",
    "            if (train_acc == 1.0):\n",
    "                saved_epoch.append(epoch)\n",
    "\n",
    "            # print weights\n",
    "            #for p in attr_net.values():\n",
    "            #    print (p.name, ' ', p.eval())\n",
    "        print('********************************************************************')\n",
    "        print('********************************************************************')\n",
    "        print('mean train accuracy', np.mean(saved_train_acc))\n",
    "        print('indiv runs ',saved_train_acc)\n",
    "        print('mean epoch', np.mean(saved_epoch))\n",
    "        print('indiv epochs ',saved_epoch)\n",
    "        print('mean test accuracy', np.mean(saved_test_acc))\n",
    "        print('indiv runs ',saved_test_acc)\n",
    "        save_results(ops, saved_train_acc, saved_test_acc, saved_att_loss, saved_entropy_final,\n",
    "                     N_TRAIN, N_TEST, SEQ_LEN, comment=\"intensity_test\")\n",
    "\n",
    "\n"
   ]
  },
  {
   "cell_type": "code",
   "execution_count": 24,
   "metadata": {
    "collapsed": false
   },
   "outputs": [
    {
     "data": {
      "text/plain": [
       "True"
      ]
     },
     "execution_count": 24,
     "metadata": {},
     "output_type": "execute_result"
    }
   ],
   "source": [
    "1.0 - 1.0 - 1e-15 < 0.0"
   ]
  },
  {
   "cell_type": "code",
   "execution_count": 22,
   "metadata": {
    "collapsed": false
   },
   "outputs": [
    {
     "data": {
      "text/plain": [
       "array([ 0.        ,  0.05263158,  0.10526316,  0.15789474,  0.21052632,\n",
       "        0.26315789,  0.31578947,  0.36842105,  0.42105263,  0.47368421,\n",
       "        0.52631579,  0.57894737,  0.63157895,  0.68421053,  0.73684211,\n",
       "        0.78947368,  0.84210526,  0.89473684,  0.94736842,  1.        ])"
      ]
     },
     "execution_count": 22,
     "metadata": {},
     "output_type": "execute_result"
    }
   ],
   "source": [
    "datetime.d"
   ]
  },
  {
   "cell_type": "code",
   "execution_count": 18,
   "metadata": {
    "collapsed": false
   },
   "outputs": [
    {
     "data": {
      "text/plain": [
       "'pos_brown'"
      ]
     },
     "execution_count": 18,
     "metadata": {},
     "output_type": "execute_result"
    }
   ],
   "source": [
    "TASK"
   ]
  },
  {
   "cell_type": "code",
   "execution_count": 36,
   "metadata": {
    "collapsed": false
   },
   "outputs": [
    {
     "name": "stdout",
     "output_type": "stream",
     "text": [
      "[ 2 16  1  2  3  1  2  3  1  3  1  1 31  2  3  7  1  8  3  1  1  9 31  5  0\n",
      "  0  0  0  0  0  0  0  0  0  0  0  0  0  0  0  0  0  0  0  0  0  0  0  0  0]\n",
      "[  17 1444 1869    4    1 1397   68    1 3056    1 2773  920 4212    6    1\n",
      " 4212  478    5    1 2773 2182 1683 4212    3    0    0    0    0    0    0\n",
      "    0    0    0    0    0    0    0    0    0    0    0    0    0    0    0\n",
      "    0    0    0    0    0]\n",
      "[u'with', u'increasing', u'advance', u'of', u'the', u'knife', u'into', u'the', u'coating', u'the', u'shear', u'plane', u'cited', u'to', u'the', u'cited', u'surface', u'and', u'the', u'shear', u'angle', u'rapidly', u'cited', u'.', 'PAD', 'PAD', 'PAD', 'PAD', 'PAD', 'PAD', 'PAD', 'PAD', 'PAD', 'PAD', 'PAD', 'PAD', 'PAD', 'PAD', 'PAD', 'PAD', 'PAD', 'PAD', 'PAD', 'PAD', 'PAD', 'PAD', 'PAD', 'PAD', 'PAD', 'PAD']\n",
      "[u'IN', u'VBG', u'NN', u'IN', u'AT', u'NN', u'IN', u'AT', u'NN', u'AT', u'NN', u'NN', u'VBZ', u'IN', u'AT', u'NNS', u'NN', u'CC', u'AT', u'NN', u'NN', u'RB', u'VBZ', u'.', 'PAD', 'PAD', 'PAD', 'PAD', 'PAD', 'PAD', 'PAD', 'PAD', 'PAD', 'PAD', 'PAD', 'PAD', 'PAD', 'PAD', 'PAD', 'PAD', 'PAD', 'PAD', 'PAD', 'PAD', 'PAD', 'PAD', 'PAD', 'PAD', 'PAD', 'PAD']\n",
      "with<\u001b[1;32mIN\u001b[0m> increasing<\u001b[1;32mVBG\u001b[0m> advance<\u001b[1;32mNN\u001b[0m> of<\u001b[1;32mIN\u001b[0m> the<\u001b[1;32mAT\u001b[0m> knife<\u001b[1;32mNN\u001b[0m> into<\u001b[1;32mIN\u001b[0m> the<\u001b[1;32mAT\u001b[0m> coating<\u001b[1;32mNN\u001b[0m> the<\u001b[1;32mAT\u001b[0m> shear<\u001b[1;32mNN\u001b[0m> plane<\u001b[1;32mNN\u001b[0m> cited<\u001b[1;32mVBZ\u001b[0m> to<\u001b[1;32mIN\u001b[0m> the<\u001b[1;32mAT\u001b[0m> cited<\u001b[1;32mNNS\u001b[0m> surface<\u001b[1;32mNN\u001b[0m> and<\u001b[1;32mCC\u001b[0m> the<\u001b[1;32mAT\u001b[0m> shear<\u001b[1;32mNN\u001b[0m> angle<\u001b[1;32mNN\u001b[0m> rapidly<\u001b[1;32mRB\u001b[0m> cited<\u001b[1;32mVBZ\u001b[0m> .<\u001b[1;32m.\u001b[0m> \n"
     ]
    }
   ],
   "source": [
    "example_id = 1343\n",
    "print(Y_train[example_id])\n",
    "print(X_train[example_id])\n",
    "print([maps['id2word'][id] for id in X_train[example_id]])\n",
    "print([maps['id2tag'][id] for id in Y_train[example_id]])\n",
    "translate_ids_to_words(X_train[example_id], Y_train[example_id], Y_train[example_id], maps['id2word'], maps['id2tag'],\n",
    "                                          printout=True)\n",
    "l = 0"
   ]
  },
  {
   "cell_type": "markdown",
   "metadata": {},
   "source": [
    "# Mutual information calculation"
   ]
  },
  {
   "cell_type": "code",
   "execution_count": 11,
   "metadata": {
    "collapsed": false,
    "scrolled": false
   },
   "outputs": [
    {
     "name": "stdout",
     "output_type": "stream",
     "text": [
      "40 / 54"
     ]
    },
    {
     "name": "stderr",
     "output_type": "stream",
     "text": [
      "/Users/deka6994/anaconda2/lib/python2.7/site-packages/ipykernel/__main__.py:62: DeprecationWarning: elementwise == comparison failed; this will raise an error in the future.\n"
     ]
    }
   ],
   "source": [
    "\n",
    "def process_each_training_example(MIS, mode, skip=1):\n",
    "    # get_mut_inf_for_vecs(MIS.h_inits[57].reshape(-1, ops['hid']), MIS.h_inits[57].reshape(-1, ops['hid']))\n",
    "    collect = []\n",
    "    losses_skipped = []\n",
    "    for id in range(0, len(MIS.losses_task), skip):\n",
    "        progress_print(id, len(MIS.losses_task), 20)\n",
    "        if mode == 'over_attractor_iterations':\n",
    "            mut_infs = flat_mutual_inf(MIS.h_inits[id], MIS.h_attractors[id], MIS.h_finals[id], ops)\n",
    "            collect.append(mut_infs)\n",
    "            losses_skipped.append(MIS.losses_task[id])\n",
    "            print(MIS.losses_task[id])\n",
    "\n",
    "            \n",
    "        elif mode == 'scatter_perf_entropy':\n",
    "            entropy_avg = compute_avg_entropy_vec(MIS.h_finals[id], ops, n_bins=5)\n",
    "            collect.append(entropy_avg)\n",
    "        elif mode == 'entropy_vector':\n",
    "            entropy_avg = compute_entropy_fullvec(MIS.h_finals[id], ops, n_bins=8)\n",
    "            collect.append(entropy_avg)\n",
    "    return collect, losses_skipped\n",
    "\n",
    "# iteration_mut_inf, losses_skipped = process_each_training_example(MIS, \n",
    "#                                                                   'over_attractor_iterations', \n",
    "#                                                                   skip=1)\n",
    "entropy_collection2, _ = process_each_training_example(MIS, 'entropy_vector')"
   ]
  },
  {
   "cell_type": "code",
   "execution_count": 16,
   "metadata": {
    "collapsed": false
   },
   "outputs": [
    {
     "name": "stderr",
     "output_type": "stream",
     "text": [
      "/Users/deka6994/anaconda2/lib/python2.7/site-packages/ipykernel/__main__.py:62: DeprecationWarning: elementwise == comparison failed; this will raise an error in the future.\n"
     ]
    },
    {
     "data": {
      "text/plain": [
       "2.5275458613503021"
      ]
     },
     "execution_count": 16,
     "metadata": {},
     "output_type": "execute_result"
    }
   ],
   "source": [
    "compute_entropy_fullvec(MIS.h_finals[-4], n_bins=8)"
   ]
  },
  {
   "cell_type": "code",
   "execution_count": 54,
   "metadata": {
    "collapsed": false
   },
   "outputs": [
    {
     "data": {
      "text/plain": [
       "[9.0007759771516476, 8.6483462110677021]"
      ]
     },
     "execution_count": 54,
     "metadata": {},
     "output_type": "execute_result"
    }
   ],
   "source": [
    "entropy_collection1"
   ]
  },
  {
   "cell_type": "code",
   "execution_count": 38,
   "metadata": {
    "collapsed": false
   },
   "outputs": [
    {
     "name": "stdout",
     "output_type": "stream",
     "text": [
      "(4, 2)\n"
     ]
    },
    {
     "data": {
      "text/plain": [
       "(array([[0, 1],\n",
       "        [1, 0]]), array([3, 1]))"
      ]
     },
     "execution_count": 38,
     "metadata": {},
     "output_type": "execute_result"
    }
   ],
   "source": [
    "a = np.array([[1,0], [0,1], [0,1], [0,1]])\n",
    "print(a.shape)\n",
    "np.unique([[1,0], [0,1], [0,1], [0,1]], return_counts=True, axis=0)\n"
   ]
  },
  {
   "cell_type": "code",
   "execution_count": 408,
   "metadata": {
    "collapsed": false
   },
   "outputs": [
    {
     "name": "stdout",
     "output_type": "stream",
     "text": [
      "[[ 1  5]\n",
      " [ 2  3]\n",
      " [ 5  1]\n",
      " [25  1]]\n"
     ]
    }
   ],
   "source": [
    "x = np.array([1,1,1,2,2,2,5,25,1,1])\n",
    "unique, counts = np.unique(x, return_counts=True)\n",
    "print(np.asarray((unique, counts)).T)"
   ]
  },
  {
   "cell_type": "code",
   "execution_count": 114,
   "metadata": {
    "collapsed": false,
    "scrolled": true
   },
   "outputs": [
    {
     "data": {
      "image/png": "[encoded data removed]",
      "text/plain": [
       "<matplotlib.figure.Figure at 0x6b308a690>"
      ]
     },
     "metadata": {},
     "output_type": "display_data"
    }
   ],
   "source": [
    "def plot_inf_iteration_loss(X, losses):\n",
    "    losses = np.clip(losses, 0, 1)\n",
    "    #     print(losses)\n",
    "    n_iterations = len(X[0])\n",
    "    color_gradient = np.array(range(len(losses)))/len(losses)\n",
    "    for i in range(len(X)):# \n",
    "        if X[i] != []:\n",
    "            X_plot = X[i]\n",
    "            plt.plot(range(n_iterations), X_plot, \n",
    "                     #c =(np.abs(losses[i]),0.5,0.3), \n",
    "                     c = (i*1.0/len(losses),0.5,0.3),\n",
    "                     linewidth=2.0, alpha=0.2)\n",
    "  \n",
    "    title = \"experiments/figs/({})[Model<{}>(attractor<{},hid({}),h_hid({}),input_noise({})>, noise<{}>, n_iterations<{}>), Problem<{}>][epochs<{}>, repetitions<{}>]__{}.png\".format(datetime.date.today(),\n",
    "                                                           ops['model_type'], \n",
    "                                                           str(ops['attractor_dynamics']),\n",
    "                                                           ops['hid'],\n",
    "                                                           ops['h_hid'],\n",
    "                                                           INPUT_NOISE_LEVEL,\n",
    "                                                           ops['attractor_noise_level'],\n",
    "                                                           ops['n_attractor_iterations'],\n",
    "                                                           ops['problem_type'],\n",
    "                                                           TRAINING_EPOCHS, \n",
    "                                                           N_REPLICATIONS,\n",
    "                                                           \"mutual_information(Layersvs.TaskLoss)(not_scaled)\")\n",
    "#     plt.savefig(title, format='png', dpi=600)\n",
    "    plt.show()\n",
    "\n",
    "\n",
    "        \n",
    "plot_inf_iteration_loss(iteration_mut_inf, losses_skipped)"
   ]
  },
  {
   "cell_type": "code",
   "execution_count": 43,
   "metadata": {
    "collapsed": false
   },
   "outputs": [
    {
     "data": {
      "text/plain": [
       "[7.0005916923052949,\n",
       " 0.44424140200116347,\n",
       " 2.3459398752309912,\n",
       " 5.2798343478483432,\n",
       " 8.3127010550928535,\n",
       " 9.6659404023199276,\n",
       " 10.161910885956228,\n",
       " 10.803302216370071,\n",
       " 11.069488626403537,\n",
       " 10.666800499323758,\n",
       " 11.205508353886659,\n",
       " 11.110032479522269,\n",
       " 10.984439497740599,\n",
       " 10.780766965062959,\n",
       " 10.445212268957825,\n",
       " 10.644215494440065,\n",
       " 10.595740987367265,\n",
       " 10.81804023656828,\n",
       " 11.052490959875854,\n",
       " 10.867472978291822,\n",
       " 11.270053685766399,\n",
       " 11.307787953086683,\n",
       " 11.631576154876866,\n",
       " 11.867088268863732,\n",
       " 11.880701385488772,\n",
       " 11.697213240772232,\n",
       " 11.765768688498806,\n",
       " 11.846536706625956,\n",
       " 11.807783336740309,\n",
       " 11.681010524903852,\n",
       " 11.848425424824999,\n",
       " 12.195143812932672,\n",
       " 11.901987659544805,\n",
       " 12.16807394173933,\n",
       " 11.860511775381649,\n",
       " 11.943937573511711,\n",
       " 11.977226344565551,\n",
       " 12.125965888782446,\n",
       " 12.247772455297962,\n",
       " 11.939531861953144,\n",
       " 11.665176050515369,\n",
       " 11.787655376036634,\n",
       " 11.75754340170457,\n",
       " 11.731041015643374,\n",
       " 11.841673367998068,\n",
       " 12.02543539905872,\n",
       " 12.040148182523419,\n",
       " 12.084283113634907,\n",
       " 12.026370268298219,\n",
       " 12.212667898630972,\n",
       " 12.212448733244749,\n",
       " 11.920791569756735,\n",
       " 12.167220356237578,\n",
       " 12.186472540402052,\n",
       " 12.183077149392497,\n",
       " 12.135071706931932,\n",
       " 12.183332217370063,\n",
       " 12.163605077300875,\n",
       " 12.267356679384841,\n",
       " 12.335083363594771,\n",
       " 12.212402251450605,\n",
       " 12.403788636107057,\n",
       " 12.29807513007051,\n",
       " 12.326822357779273,\n",
       " 12.231881902139717,\n",
       " 12.372658600921541,\n",
       " 12.369250701066564,\n",
       " 12.380020346657622,\n",
       " 12.41928648068272,\n",
       " 12.386062303573672,\n",
       " 12.291387141486229,\n",
       " 12.420294907469717,\n",
       " 12.370028657497642,\n",
       " 12.564878754017441,\n",
       " 12.473398215620858,\n",
       " 12.40381459487582,\n",
       " 12.516642145800152,\n",
       " 12.58339710403826,\n",
       " 12.538121511763306,\n",
       " 12.518875222659691,\n",
       " 12.60546451087898,\n",
       " 12.525680924639031,\n",
       " 12.555224557823534,\n",
       " 12.577103854165429,\n",
       " 12.625876343700474,\n",
       " 12.673280679774114,\n",
       " 12.751938412423174,\n",
       " 12.671753669675722,\n",
       " 12.707468655884872,\n",
       " 12.674975520394003,\n",
       " 12.650652326624359,\n",
       " 12.703876558975493,\n",
       " 12.685523457335423,\n",
       " 12.709289286833091,\n",
       " 12.836421239084672,\n",
       " 12.711293501384183,\n",
       " 12.758120791843286,\n",
       " 12.732387803113019,\n",
       " 12.712993599210096,\n",
       " 12.752800989226593,\n",
       " 12.785146463768655,\n",
       " 12.707290695460367,\n",
       " 12.745600995385979,\n",
       " 12.717220365798582,\n",
       " 12.787530277233486,\n",
       " 12.765576701543926,\n",
       " 12.80197212091185,\n",
       " 12.754250708669064,\n",
       " 12.77873395622027,\n",
       " 12.783794759515605,\n",
       " 12.835637149648187,\n",
       " 12.766238790410515,\n",
       " 12.826793496629254,\n",
       " 12.801338101874915,\n",
       " 12.778964569495159,\n",
       " 12.832536914086717,\n",
       " 12.823910098953526,\n",
       " 12.808256910648236,\n",
       " 12.835631053884489,\n",
       " 12.802537775824897,\n",
       " 12.837056515396984,\n",
       " 12.797167475986639,\n",
       " 12.809961663704359,\n",
       " 12.839872312137722,\n",
       " 12.83796884047756,\n",
       " 12.855774861548094,\n",
       " 12.813602758104237,\n",
       " 12.852008836435388,\n",
       " 12.868940298518105,\n",
       " 12.873471887404991,\n",
       " 12.855094236635569,\n",
       " 12.853619496626917,\n",
       " 12.882375872152339,\n",
       " 12.941194418656737,\n",
       " 12.866565036815334,\n",
       " 12.867542862427825,\n",
       " 12.880939873282925,\n",
       " 12.889062745032186,\n",
       " 12.940761513353898,\n",
       " 12.846596177980965,\n",
       " 12.865698810797028,\n",
       " 12.888369428667062,\n",
       " 12.873568769981153,\n",
       " 12.844227927353952,\n",
       " 12.909811565474053,\n",
       " 12.920309167237917,\n",
       " 12.861095813890811,\n",
       " 12.879823961677729,\n",
       " 12.87229731046402,\n",
       " 12.890993863828264,\n",
       " 12.877412397894206,\n",
       " 12.941571737517817,\n",
       " 12.949968539353243,\n",
       " 12.918360032658317,\n",
       " 12.935573440870792,\n",
       " 12.947779207684572,\n",
       " 12.926224417796984,\n",
       " 12.897276155757524,\n",
       " 12.912337497567009,\n",
       " 12.893460510885184,\n",
       " 12.941381121563852,\n",
       " 12.947355544177613,\n",
       " 12.92302450696603,\n",
       " 12.911748347311589,\n",
       " 12.937661966016012,\n",
       " 12.924804596200783,\n",
       " 12.902303869381525,\n",
       " 12.912979227322351,\n",
       " 12.926398420493051,\n",
       " 12.90554739306846,\n",
       " 12.929181024600322,\n",
       " 12.905506138095163,\n",
       " 12.913728020543541,\n",
       " 12.916487286990195,\n",
       " 12.920615388380702,\n",
       " 12.927188943526529,\n",
       " 12.888453874383083,\n",
       " 12.927595577742812,\n",
       " 12.942645612922492,\n",
       " 12.921260408651301,\n",
       " 12.91436053651886,\n",
       " 12.932455953670086,\n",
       " 12.946273367000728,\n",
       " 12.93456700144816,\n",
       " 12.969153372863197,\n",
       " 12.950942628337504,\n",
       " 12.953222782773921,\n",
       " 12.96591569821426,\n",
       " 12.951614777751205,\n",
       " 12.954562619961417,\n",
       " 12.952394609130968,\n",
       " 12.977546408219981,\n",
       " 12.955270394912992,\n",
       " 12.985479002342821,\n",
       " 12.943362809237101,\n",
       " 12.930725370690949,\n",
       " 12.937239418201218,\n",
       " 12.960818115862866,\n",
       " 12.971461941100062,\n",
       " 12.958751364814084,\n",
       " 12.957897237445387,\n",
       " 12.958477597027409,\n",
       " 12.939439017992617,\n",
       " 12.977994557644379,\n",
       " 12.893598704799199,\n",
       " 12.918766116599622,\n",
       " 12.963810041667063,\n",
       " 12.939814588008907,\n",
       " 12.944408794905096,\n",
       " 12.936499452294919,\n",
       " 12.936056696930562,\n",
       " 12.987589386798907,\n",
       " 12.950653451413016,\n",
       " 12.924859850083751,\n",
       " 12.964154305207797,\n",
       " 12.943182811927421,\n",
       " 12.957679935994209,\n",
       " 12.958082586268979,\n",
       " 12.956192803647077,\n",
       " 12.972651477817202,\n",
       " 12.945036296644108,\n",
       " 12.955077777921426,\n",
       " 12.996263972562522,\n",
       " 12.962825524829826,\n",
       " 12.959345359648601,\n",
       " 12.970148477838105,\n",
       " 12.970477616367628,\n",
       " 12.965273559340973,\n",
       " 12.956631456784812,\n",
       " 12.963791063333073,\n",
       " 12.91273967262647,\n",
       " 12.991699484814847,\n",
       " 12.96069240992612,\n",
       " 12.945468456528339,\n",
       " 12.972601015034222,\n",
       " 12.96401747056977,\n",
       " 12.977504505871975,\n",
       " 12.956294979880997,\n",
       " 12.947417437376572,\n",
       " 12.982151814294969,\n",
       " 12.962521331107704,\n",
       " 12.977007512849839,\n",
       " 12.975082208851818,\n",
       " 12.961120329196495,\n",
       " 12.983825824991424,\n",
       " 12.973662381232955,\n",
       " 12.972603869886958,\n",
       " 12.958918053277895,\n",
       " 12.960683965592132,\n",
       " 12.989951956558036,\n",
       " 12.966776324948897,\n",
       " 12.992237521910017,\n",
       " 12.95740769392442,\n",
       " 12.978615021759511,\n",
       " 12.984986716832942,\n",
       " 12.98275512321883,\n",
       " 12.996043966871197]"
      ]
     },
     "execution_count": 43,
     "metadata": {},
     "output_type": "execute_result"
    }
   ],
   "source": [
    "entropy_collection1"
   ]
  },
  {
   "cell_type": "code",
   "execution_count": 13,
   "metadata": {
    "collapsed": false
   },
   "outputs": [
    {
     "name": "stdout",
     "output_type": "stream",
     "text": [
      "[0, -1]\n"
     ]
    },
    {
     "data": {
      "image/png": "[encoded data removed]",
      "text/plain": [
       "<matplotlib.figure.Figure at 0x7ff573e2a190>"
      ]
     },
     "metadata": {},
     "output_type": "display_data"
    }
   ],
   "source": [
    "import matplotlib.cm as cm\n",
    "\n",
    "def plot_entropy_scatter(X, losses):\n",
    "    ids = [0]\n",
    "    for i in range(len(losses)):\n",
    "        if losses[i] == 0.0:\n",
    "            ids.append(i)\n",
    "    ids += [-1]\n",
    "    print(ids)    \n",
    "    colors = cm.rainbow(np.linspace(0, 1, len(ids)-1))\n",
    "    for i in range(len(ids)-1):\n",
    "        x = X[ids[i]:ids[i+1]]\n",
    "        y = losses[ids[i]:ids[i+1]]\n",
    "        color_gradient = np.array(range(len(x)))/len(x)\n",
    "        plt.scatter(x, y, s=10, alpha=0.6, c=color_gradient)\n",
    "        plt.plot(x, y, linewidth=0.8, alpha=0.2, c=colors[i])\n",
    "#     plt.colorbar()\n",
    "#     plt.axis([10, 14, 4.06, 4.1])\n",
    "    title = \"../attractor_net_notebooks/experiments/figs/({})[Model<{}>(attractor<{},hid({}),h_hid({}),input_noise({})>, noise<{}>, n_iterations<{}>), Problem<{}>][epochs<{}>, repetitions<{}>]__{}.png\".format(datetime.date.today(),\n",
    "                                                           ops['model_type'], \n",
    "                                                           str(ops['attractor_dynamics']),\n",
    "                                                           ops['hid'],\n",
    "                                                           ops['h_hid'],\n",
    "                                                           INPUT_NOISE_LEVEL,\n",
    "                                                           ops['attractor_noise_level'],\n",
    "                                                           ops['n_attractor_iterations'],\n",
    "                                                           ops['problem_type'],\n",
    "                                                           TRAINING_EPOCHS, \n",
    "                                                           N_REPLICATIONS,\n",
    "                                                           \"30repts_vectorentropy_vs_taskloss(projection2 5-10, bins{})\".format(8))\n",
    "    #     plt.savefig(title, format='png', dpi=600)\n",
    "    \n",
    "plot_entropy_scatter(entropy_collection2, MIS.losses_task)\n",
    "plt.show()"
   ]
  },
  {
   "cell_type": "code",
   "execution_count": null,
   "metadata": {
    "collapsed": true
   },
   "outputs": [],
   "source": []
  },
  {
   "cell_type": "markdown",
   "metadata": {
    "collapsed": false
   },
   "source": [
    "# Noise removal plots"
   ]
  },
  {
   "cell_type": "code",
   "execution_count": 28,
   "metadata": {
    "collapsed": true
   },
   "outputs": [],
   "source": [
    "MIS_saved_10attractorsteps_5everythingelse = MIS"
   ]
  },
  {
   "cell_type": "markdown",
   "metadata": {},
   "source": [
    "# Analyze Losses"
   ]
  },
  {
   "cell_type": "code",
   "execution_count": 59,
   "metadata": {
    "collapsed": true
   },
   "outputs": [],
   "source": [
    "def normalize_epoch_count(a):\n",
    "    \"splits the array into separate sessions and normalizes each session by its maximum id (epoch number)\"\n",
    "    maxs = []\n",
    "    ids = []\n",
    "    for i in range(len(a) - 1):\n",
    "        if a[i+1] < a[i]:\n",
    "            maxs.append(a[i])\n",
    "            ids.append(i+1)\n",
    "    maxs.append(a[-1])\n",
    "    \n",
    "    a_split = (np.split(a, ids))\n",
    "    a_split_norm = [1.0*a_split[i]/maxs[i] for i in range(len(maxs))]\n",
    "#     print(a_split_norm)\n",
    "    return np.concatenate(a_split_norm, axis=0), ids"
   ]
  },
  {
   "cell_type": "code",
   "execution_count": 66,
   "metadata": {
    "collapsed": false
   },
   "outputs": [
    {
     "data": {
      "image/png": "[encoded data removed]",
      "text/plain": [
       "<matplotlib.figure.Figure at 0x7f4e90519dd0>"
      ]
     },
     "metadata": {},
     "output_type": "display_data"
    }
   ],
   "source": [
    "def plot_loss_vs_loss_vs_values(x, y, values, x_label=\"\", y_label=\"\", value_name=\"\", ops=ops, comment=''):\n",
    "    # Plot...\n",
    "    plt.scatter(x, y, c=values, s=20, alpha=0.5) # 10*np.arange(1.0, 50.0)\n",
    "    plt.xlabel(x_label, fontsize=25)\n",
    "    plt.ylabel(y_label, fontsize=25)\n",
    "    plt.title(\"{}\".format(value_name), fontsize=25)\n",
    "    plt.colorbar()\n",
    "    title = \"experiments/figs/({})[Model<{}>(attractor<{},hid({}),h_hid({}),input_noise({})>, noise<{}>, n_iterations<{}>), Problem<{}>][epochs<{}>, repetitions<{}>]__{}.png\".format(datetime.date.today(),\n",
    "                                                           ops['model_type'], \n",
    "                                                           str(ops['attractor_dynamics']),\n",
    "                                                           ops['hid'],\n",
    "                                                           ops['h_hid'],\n",
    "                                                           INPUT_NOISE_LEVEL,\n",
    "                                                           ops['attractor_noise_level'],\n",
    "                                                           ops['n_attractor_iterations'],\n",
    "                                                           ops['problem_type'],\n",
    "                                                           TRAINING_EPOCHS, \n",
    "                                                           N_REPLICATIONS,\n",
    "                                                           comment)\n",
    "    \n",
    "    plt.axis([0, 3, -0.1, 1.1]) \n",
    "#     plt.savefig(title, format='png', dpi=600)\n",
    "\n",
    "def plot_loss_vs_loss_vs_values_lines(x, y, values, ids_split, x_label=\"\", y_label=\"\", value_name=\"\", ops=ops, comment=''):\n",
    "    # Plot...\n",
    "    x_list = np.split(x, ids_split)\n",
    "    y_list = np.split(y, ids_split)\n",
    "    values_list = np.split(values, ids_split)\n",
    "    for i in range(len(ids_split) + 1):# \n",
    "        x = x_list[i]\n",
    "        y = y_list[i]\n",
    "        values = values_list[i]\n",
    "        plt.scatter(x, y, c=values, s=20, alpha=0.7) # 10*np.arange(1.0, 50.0)\n",
    "        plt.plot(x, y, linewidth=0.8, alpha=0.3)\n",
    "        \n",
    "    plt.xlabel(x_label, fontsize=25)\n",
    "    plt.ylabel(y_label, fontsize=25)\n",
    "    plt.title(\"{}\".format(value_name), fontsize=25)\n",
    "    plt.colorbar()\n",
    "    title = \"../attractor_net_notebooks/experiments/figs/({})[Model<{}>(attractor<{},hid({}),h_hid({}),input_noise({})>, noise<{}>, seq_len<{}>,n_iterations<{}>), Problem<{}>][epochs<{}>, repetitions<{}>]__{}.png\".format(datetime.date.today(),\n",
    "                                                           ops['model_type'], \n",
    "                                                           str(ops['attractor_dynamics']),\n",
    "                                                           ops['hid'],\n",
    "                                                           ops['h_hid'],\n",
    "                                                           INPUT_NOISE_LEVEL,\n",
    "                                                           SEQ_LEN,\n",
    "                                                           ops['attractor_noise_level'],\n",
    "                                                           ops['n_attractor_iterations'],\n",
    "                                                           ops['problem_type'],\n",
    "                                                           TRAINING_EPOCHS, \n",
    "                                                           N_REPLICATIONS,\n",
    "                                                           ops['attractor_regularization'],\n",
    "                                                           comment)\n",
    "    \n",
    "#     plt.axis([0, 5, 4, 4.25]) \n",
    "    plt.savefig(title, format='png', dpi=600)\n",
    "\n",
    "\n",
    "epoch_normalized, ids_split = normalize_epoch_count(WS.epoch_number_history)\n",
    "plot_loss_vs_loss_vs_values_lines(WS.losses_att, \n",
    "                            WS.losses_task,\n",
    "                            epoch_normalized,\n",
    "                            ids_split,\n",
    "                           'Attractor Weights Loss',\n",
    "                           'Task Loss',\n",
    "                           ops['problem_type'] + ' epoch_map', \n",
    "                           comment = \"Test_acc_mean<{:.4f}>, <bothlosses>\".format(np.mean(saved_test_acc)))\n",
    "# plt.savefig('figs/' + \"{}vs{}vs{}__\".format(x_label, y_label, value_name) + \n",
    "#                \"NoiseLambda_{}__Architecture_{}\".format(str(ops['attractor_noise_level']), model_type))\n",
    "plt.show()\n",
    "\n"
   ]
  },
  {
   "cell_type": "code",
   "execution_count": 65,
   "metadata": {
    "collapsed": false,
    "scrolled": true
   },
   "outputs": [
    {
     "name": "stdout",
     "output_type": "stream",
     "text": [
      "\n",
      "\n",
      "(2018-03-19): both losses used for attractor training\n",
      "<NETWORK>:\n",
      "model_type: \t\tGRU,\n",
      "hid: \t\t\t5, \n",
      "h_hid: \t\t\t10\n",
      "n_attractor_iterations: 0,\n",
      "attractor_dynamics: \tprojection2\n",
      "attractor_noise_level: \t0.2\n",
      "attractor_noise_type: \tbernoilli\n",
      "attractor_regu-n: \tl2(lambda:0.05)\n",
      "TRAIN/TEST_SIZE: \t1000/1000, SEQ_LEN: 12\n",
      "<RESULTS>:\n",
      "type: \t\t\tmean: \t var: \t\n",
      "saved_train_acc \t0.8055 \t 0.0132\n",
      "saved_test_acc \t\t0.5912 \t 0.0217\n",
      "saved_att_loss \t\t1.0049 \t 0.0000\n",
      "TRAIN:[0.646 0.749 0.766 0.699 0.685 0.996 0.731 0.763 0.740 0.690 1.000 0.694\n",
      " 0.736 0.763 0.766 0.732 0.940 0.999 0.658 0.969 0.902 0.822 0.712 0.856\n",
      " 0.989 0.733 1.000 0.752 0.777 0.901]\n",
      "TEST:[0.498 0.520 0.562 0.502 0.510 0.868 0.499 0.528 0.506 0.503 0.990 0.499\n",
      " 0.513 0.481 0.572 0.488 0.564 0.825 0.515 0.772 0.559 0.547 0.512 0.545\n",
      " 0.762 0.506 0.995 0.524 0.487 0.587]\n",
      "ATT_LOSS:[1.005 1.005 1.005 1.005 1.005 1.005 1.004 1.005 1.005 1.005 1.005 1.005\n",
      " 1.005 1.004 1.005 1.004 1.005 1.005 1.005 1.005 1.005 1.005 1.005 1.005\n",
      " 1.005 1.005 1.005 1.005 1.005 1.005]\n",
      "Saved Results Successfully\n"
     ]
    }
   ],
   "source": [
    "        \n",
    "comment = \"both losses used for attractor training\"\n",
    "save_results(ops, saved_train_acc, saved_test_acc, saved_att_loss, comment)\n"
   ]
  },
  {
   "cell_type": "code",
   "execution_count": 33,
   "metadata": {
    "collapsed": false
   },
   "outputs": [
    {
     "data": {
      "text/plain": [
       "[0.27380559]"
      ]
     },
     "execution_count": 33,
     "metadata": {},
     "output_type": "execute_result"
    }
   ],
   "source": [
    "saved_att_loss"
   ]
  },
  {
   "cell_type": "code",
   "execution_count": null,
   "metadata": {
    "collapsed": false
   },
   "outputs": [],
   "source": [
    "saved_train_acc = []\n",
    "saved_test_acc = []\n",
    "saved_epoch = []"
   ]
  },
  {
   "cell_type": "code",
   "execution_count": null,
   "metadata": {
    "collapsed": false
   },
   "outputs": [],
   "source": [
    "get_mean_var(saved_test_acc)"
   ]
  },
  {
   "cell_type": "code",
   "execution_count": null,
   "metadata": {
    "collapsed": false
   },
   "outputs": [],
   "source": [
    "np.mean(saved_test_acc)\n"
   ]
  },
  {
   "cell_type": "code",
   "execution_count": null,
   "metadata": {
    "collapsed": true
   },
   "outputs": [],
   "source": []
  }
 ],
 "metadata": {
  "kernelspec": {
   "display_name": "Python 2",
   "language": "python",
   "name": "python2"
  },
  "language_info": {
   "codemirror_mode": {
    "name": "ipython",
    "version": 2
   },
   "file_extension": ".py",
   "mimetype": "text/x-python",
   "name": "python",
   "nbconvert_exporter": "python",
   "pygments_lexer": "ipython2",
   "version": "2.7.12"
  }
 },
 "nbformat": 4,
 "nbformat_minor": 1
}
